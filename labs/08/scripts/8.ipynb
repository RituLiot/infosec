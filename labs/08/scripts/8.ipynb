{
 "cells": [
  {
   "cell_type": "code",
   "execution_count": 1,
   "id": "418a1f11",
   "metadata": {},
   "outputs": [],
   "source": [
    "ls = \"АБВГДЕЖЗИЙКЛМНОПРСТУФХЦЧШЩЪЫЬЭЮЯабвгдежзийклмнопрстуфхцчшщъыьэюя\"\n",
    "ss = ' !\"#$%&\\'()*+,–./0123456789:;<=>?@'\n",
    "d = {}\n",
    "p = 191\n",
    "for l in ls:\n",
    "    p+=1\n",
    "    d[l] = p#.lstrip('0x').upper()\n",
    "p = 31\n",
    "for l in ss:\n",
    "    p+=1\n",
    "    d[l] = p#.lstrip('0x').upper()\n",
    "ds = {v: k for k, v in d.items()}"
   ]
  },
  {
   "cell_type": "code",
   "execution_count": 2,
   "id": "876bd9ea",
   "metadata": {},
   "outputs": [],
   "source": [
    "def hth(hs):\n",
    "    hs = hs.split()\n",
    "    for k in range(len(hs)):\n",
    "        hs[k] = \"0x\" + hs[k].lower()\n",
    "        hs[k] = int(hs[k], 16)\n",
    "        hs[k] = bin(hs[k])\n",
    "    return hs"
   ]
  },
  {
   "cell_type": "code",
   "execution_count": 3,
   "id": "c99cec61",
   "metadata": {},
   "outputs": [],
   "source": [
    "def encode(text, key):\n",
    "    key = hth(key)\n",
    "    nt = \"\"\n",
    "    for t in range(len(text)):\n",
    "        a = int(bin(d[text[t]]),2)^int(key[t],2)\n",
    "        nt+=hex(a).lstrip('0x').upper()+\" \"\n",
    "    nt = nt[:-1]\n",
    "    return nt"
   ]
  },
  {
   "cell_type": "code",
   "execution_count": 4,
   "id": "f3573600",
   "metadata": {},
   "outputs": [],
   "source": [
    "def decode(text, key):\n",
    "    text = hth(text)\n",
    "    key = hth(key)\n",
    "    nt = \"\"\n",
    "    for t in range(len(text)):\n",
    "        a = int(text[t], 2)^int(key[t], 2)\n",
    "        nt+=ds[a]\n",
    "    return nt"
   ]
  },
  {
   "cell_type": "code",
   "execution_count": 21,
   "id": "a36665e2",
   "metadata": {},
   "outputs": [],
   "source": [
    "def guess(text, key):\n",
    "    key = hth(key)\n",
    "    nt = \"\"\n",
    "    for t in range(len(text)):\n",
    "        a = int(bin(d[text[t]]),2)^int(key[t], 2)\n",
    "        nt+=hex(a).lstrip('0x').upper().zfill(2)+\" \"\n",
    "    nt = nt[:-1]\n",
    "    return nt"
   ]
  },
  {
   "cell_type": "code",
   "execution_count": 22,
   "id": "ee24951f",
   "metadata": {},
   "outputs": [],
   "source": [
    "def dxor(c1, c2, p1):\n",
    "    c1 = hth(c1)\n",
    "    c2 = hth(c2)\n",
    "    nt = \"\"\n",
    "    for t in range(len(p1)):\n",
    "        a = int(c1[t], 2)^int(c2[t], 2)\n",
    "        b = a^int(bin(d[p1[t]]),2)\n",
    "        nt+=ds[b]\n",
    "    return nt"
   ]
  },
  {
   "cell_type": "code",
   "execution_count": 13,
   "id": "09187c28",
   "metadata": {},
   "outputs": [],
   "source": [
    "C1 = encode(\"НаВашисходящийот1204\", \"05 0C 17 7F 0E 4E 37 D2 94 10 09 2E 22 57 FF C8 0B B2 70 54\")"
   ]
  },
  {
   "cell_type": "code",
   "execution_count": 12,
   "id": "c4647914",
   "metadata": {},
   "outputs": [],
   "source": [
    "C2 = encode(\"ВСеверныйфилиалБанка\", \"05 0C 17 7F 0E 4E 37 D2 94 10 09 2E 22 57 FF C8 0B B2 70 54\")"
   ]
  },
  {
   "cell_type": "code",
   "execution_count": 14,
   "id": "df6cc30f",
   "metadata": {},
   "outputs": [],
   "source": [
    "P1 = \"НаВашисходящийот1204\""
   ]
  },
  {
   "cell_type": "code",
   "execution_count": 23,
   "id": "1fead4a3",
   "metadata": {},
   "outputs": [
    {
     "data": {
      "text/plain": [
       "'ВСеверныйфилиалБанка'"
      ]
     },
     "execution_count": 23,
     "metadata": {},
     "output_type": "execute_result"
    }
   ],
   "source": [
    "dxor(C1, C2, P1)"
   ]
  },
  {
   "cell_type": "code",
   "execution_count": null,
   "id": "c26e647c",
   "metadata": {},
   "outputs": [],
   "source": []
  }
 ],
 "metadata": {
  "kernelspec": {
   "display_name": "Python 3 (ipykernel)",
   "language": "python",
   "name": "python3"
  },
  "language_info": {
   "codemirror_mode": {
    "name": "ipython",
    "version": 3
   },
   "file_extension": ".py",
   "mimetype": "text/x-python",
   "name": "python",
   "nbconvert_exporter": "python",
   "pygments_lexer": "ipython3",
   "version": "3.9.7"
  }
 },
 "nbformat": 4,
 "nbformat_minor": 5
}
